{
 "cells": [
  {
   "cell_type": "code",
   "execution_count": 1,
   "id": "98019d3f",
   "metadata": {},
   "outputs": [],
   "source": [
    "word = \"mississippi\"\n",
    "counter = {}\n",
    "for letter in word: \n",
    "    if letter not in counter:\n",
    "        counter[letter] = 0\n",
    "    counter[letter]+=1\n"
   ]
  },
  {
   "cell_type": "code",
   "execution_count": 2,
   "id": "78ee6d6e",
   "metadata": {},
   "outputs": [
    {
     "name": "stdout",
     "output_type": "stream",
     "text": [
      "{'m': 1, 'i': 4, 's': 4, 'p': 2}\n"
     ]
    }
   ],
   "source": [
    "print(counter)"
   ]
  },
  {
   "cell_type": "code",
   "execution_count": 2,
   "id": "f01223af",
   "metadata": {},
   "outputs": [
    {
     "name": "stdout",
     "output_type": "stream",
     "text": [
      "{'m': 1, 'i': 4, 's': 4, 'p': 2}\n"
     ]
    }
   ],
   "source": [
    "word = \"mississippi\"\n",
    "counter = {}\n",
    "for letter in word: \n",
    "    counter[letter] = counter.get(letter,0) + 1\n",
    "print(counter)"
   ]
  },
  {
   "cell_type": "code",
   "execution_count": 1,
   "id": "1b9daeeb",
   "metadata": {},
   "outputs": [
    {
     "name": "stdout",
     "output_type": "stream",
     "text": [
      "{'t': 2, 'h': 2, 'e': 4, ' ': 6, 'n': 2, 'd': 2, 'o': 2, 'f': 1, 'w': 1, 'r': 2, 'l': 1, 'i': 1, 's': 1, 'a': 1}\n"
     ]
    }
   ],
   "source": [
    "word = \"the end of the world is near\"\n",
    "counter = {}\n",
    "for letter in word:\n",
    "        counter[letter] = counter.get(letter,0) + 1\n",
    "print(counter)"
   ]
  },
  {
   "cell_type": "code",
   "execution_count": 2,
   "id": "68c12e62",
   "metadata": {},
   "outputs": [
    {
     "name": "stdout",
     "output_type": "stream",
     "text": [
      "defaultdict(<class 'int'>, {'m': 1, 'i': 4, 's': 4, 'p': 2})\n"
     ]
    }
   ],
   "source": [
    "from collections import defaultdict\n",
    "word = \"mississippi\"\n",
    "counter = defaultdict(int)\n",
    "for letter in word: \n",
    "    counter[letter] +=1\n",
    "print(counter)"
   ]
  },
  {
   "cell_type": "code",
   "execution_count": 2,
   "id": "4efb8eaf",
   "metadata": {},
   "outputs": [
    {
     "data": {
      "text/plain": [
       "Counter({'i': 1, 's': 1, 'm': 1, 'p': 1})"
      ]
     },
     "execution_count": 2,
     "metadata": {},
     "output_type": "execute_result"
    }
   ],
   "source": [
    "from collections import Counter\n",
    "Counter(set(\"mississippi\"))"
   ]
  },
  {
   "cell_type": "code",
   "execution_count": 3,
   "id": "0b7b2aa1",
   "metadata": {},
   "outputs": [],
   "source": [
    "from collections import Counter\n",
    "def count_letters(filename):\n",
    "    letter_counter = Counter()\n",
    "    with open(filename) as file:\n",
    "        for line in file: \n",
    "            line_letters = [char for char in line.lower() if char.isalpha()]\n",
    "        letter_counter.update(Counter(line_letters))\n",
    "    return letter_counter"
   ]
  },
  {
   "cell_type": "code",
   "execution_count": 13,
   "id": "264cab23",
   "metadata": {},
   "outputs": [
    {
     "name": "stdout",
     "output_type": "stream",
     "text": [
      "e -> 9\n",
      "o -> 6\n",
      "a -> 5\n",
      "n -> 4\n",
      "s -> 4\n",
      "r -> 3\n",
      "t -> 3\n",
      "m -> 2\n",
      "h -> 2\n",
      "i -> 2\n",
      "g -> 2\n",
      "d -> 2\n",
      "p -> 1\n",
      "c -> 1\n",
      "k -> 1\n",
      "l -> 1\n",
      "f -> 1\n"
     ]
    }
   ],
   "source": [
    "from collections import Counter\n",
    "letter_counter = count_letters(\"myfile.txt\")\n",
    "for letter,count in letter_counter.most_common():\n",
    "    print (letter, \"->\", count)"
   ]
  },
  {
   "cell_type": "code",
   "execution_count": 3,
   "id": "c7b0eb7e",
   "metadata": {},
   "outputs": [],
   "source": [
    "from collections import Counter\n",
    "def mode(data):\n",
    "    counter = Counter(data)\n",
    "    _,top_counter = counter.most_common(1)[0]\n",
    "    return [point for point,count in counter.items() if count == top_counter]\n"
   ]
  },
  {
   "cell_type": "code",
   "execution_count": 5,
   "id": "995e9f48",
   "metadata": {},
   "outputs": [
    {
     "data": {
      "text/plain": [
       "['apple', 'banana']"
      ]
     },
     "execution_count": 5,
     "metadata": {},
     "output_type": "execute_result"
    }
   ],
   "source": [
    "mode(Counter(apple = 10, banana = 10, oragne = 3))"
   ]
  },
  {
   "cell_type": "code",
   "execution_count": 6,
   "id": "29bb966c",
   "metadata": {},
   "outputs": [
    {
     "name": "stdout",
     "output_type": "stream",
     "text": [
      "course   : $  97.99 × 1 = $  97.99\n",
      "book     : $  54.99 × 3 = $ 164.97\n",
      "wallpaper: $   4.99 × 2 = $   9.98\n",
      "Total amount: $ 272.94\n"
     ]
    }
   ],
   "source": [
    "from collections import Counter\n",
    "\n",
    "prices = {\"course\": 97.99, \"book\": 54.99, \"wallpaper\": 4.99}\n",
    "cart = Counter(course=1, book=3, wallpaper=2)\n",
    "total_amount = 0;\n",
    "\n",
    "for product, units in cart.items():\n",
    "    subtotal = units * prices[product]\n",
    "    price = prices[product]\n",
    "    print(f\"{product:9}: ${price:7.2f} × {units} = ${subtotal:7.2f}\")\n",
    "    total_amount += subtotal\n",
    "print(f\"Total amount: ${total_amount:7.2f}\")\n",
    " "
   ]
  },
  {
   "cell_type": "code",
   "execution_count": 3,
   "id": "f9d02687",
   "metadata": {},
   "outputs": [
    {
     "name": "stdout",
     "output_type": "stream",
     "text": [
      "1 1 2 2 3 3 4 4 5 5 6 1 2 1 3 2 4 3 5 4 6 5 7 2 3 1 4 2 5 3 6 4 7 5 8 3 4 1 5 2 6 3 7 4 8 5 9 4 5 1 6 2 7 3 8 4 9 5 10 5 "
     ]
    }
   ],
   "source": [
    "for i in [1, 2, 3, 4, 5]:\n",
    "    print(i, end = \" \")                     \n",
    "    for j in [1, 2, 3, 4, 5]:\n",
    "        print(j, end = \" \")               \n",
    "        print(i+j, end = \" \")            \n",
    "    print(i, end = \" \")                   "
   ]
  },
  {
   "cell_type": "code",
   "execution_count": 2,
   "id": "32682519",
   "metadata": {},
   "outputs": [
    {
     "name": "stdout",
     "output_type": "stream",
     "text": [
      "5\n"
     ]
    }
   ],
   "source": [
    "integer_list = [1, 2, 3]\n",
    "heterogeneous_list = [\"string\", 0.1, True]\n",
    "list_of_lists = [integer_list, heterogeneous_list, [3,5,6]]\n",
    "print(list_of_lists[2][1])"
   ]
  },
  {
   "cell_type": "code",
   "execution_count": 3,
   "id": "0c33162b",
   "metadata": {},
   "outputs": [
    {
     "name": "stdout",
     "output_type": "stream",
     "text": [
      "string\n"
     ]
    }
   ],
   "source": [
    "print(list_of_lists[1][0])"
   ]
  },
  {
   "cell_type": "code",
   "execution_count": 4,
   "id": "afbb0789",
   "metadata": {},
   "outputs": [],
   "source": [
    "assert 1+1 ==2"
   ]
  },
  {
   "cell_type": "code",
   "execution_count": 5,
   "id": "ba8e6369",
   "metadata": {},
   "outputs": [],
   "source": [
    "assert 1 + 1 == 2, \"1 + 1 should equal 2 but didn't\""
   ]
  },
  {
   "cell_type": "code",
   "execution_count": 6,
   "id": "8a3936b6",
   "metadata": {},
   "outputs": [
    {
     "data": {
      "text/plain": [
       "2"
      ]
     },
     "execution_count": 6,
     "metadata": {},
     "output_type": "execute_result"
    }
   ],
   "source": [
    "1 + 1 "
   ]
  },
  {
   "cell_type": "code",
   "execution_count": 7,
   "id": "7b415851",
   "metadata": {},
   "outputs": [
    {
     "data": {
      "text/plain": [
       "False"
      ]
     },
     "execution_count": 7,
     "metadata": {},
     "output_type": "execute_result"
    }
   ],
   "source": [
    "1 + 1 == 4"
   ]
  },
  {
   "cell_type": "code",
   "execution_count": 12,
   "id": "4fa57173",
   "metadata": {},
   "outputs": [],
   "source": [
    "def smallest_item(xs):\n",
    "    assert xs, \"empty list has no smallest item\"\n",
    "    return min(xs)"
   ]
  },
  {
   "cell_type": "code",
   "execution_count": 16,
   "id": "04604208",
   "metadata": {},
   "outputs": [
    {
     "data": {
      "text/plain": [
       "1"
      ]
     },
     "execution_count": 16,
     "metadata": {},
     "output_type": "execute_result"
    }
   ],
   "source": [
    "assert smallest_item([10, 20, 5, 40]) == 5\n",
    "assert smallest_item([1, 0, -1, 2]) == -1\n",
    "assert smallest_item([1,1,1,1])"
   ]
  },
  {
   "cell_type": "code",
   "execution_count": 10,
   "id": "4b7edc33",
   "metadata": {},
   "outputs": [
    {
     "data": {
      "text/plain": [
       "5"
      ]
     },
     "execution_count": 10,
     "metadata": {},
     "output_type": "execute_result"
    }
   ],
   "source": [
    "smallest_item([10, 20, 5, 40])"
   ]
  },
  {
   "cell_type": "code",
   "execution_count": 17,
   "id": "14a3fb25",
   "metadata": {},
   "outputs": [
    {
     "ename": "SyntaxError",
     "evalue": "'yield' outside function (<ipython-input-17-6c7fdfb1f3f2>, line 1)",
     "output_type": "error",
     "traceback": [
      "\u001b[1;36m  File \u001b[1;32m\"<ipython-input-17-6c7fdfb1f3f2>\"\u001b[1;36m, line \u001b[1;32m1\u001b[0m\n\u001b[1;33m    yield 5\u001b[0m\n\u001b[1;37m    ^\u001b[0m\n\u001b[1;31mSyntaxError\u001b[0m\u001b[1;31m:\u001b[0m 'yield' outside function\n"
     ]
    }
   ],
   "source": [
    "yield 5"
   ]
  },
  {
   "cell_type": "code",
   "execution_count": 18,
   "id": "e8017f7c",
   "metadata": {},
   "outputs": [
    {
     "name": "stdout",
     "output_type": "stream",
     "text": [
      "<generator object testing at 0x00000209230F0430>\n"
     ]
    }
   ],
   "source": [
    "def testing(n):\n",
    "    return (yield n)\n",
    "print(testing(5))"
   ]
  },
  {
   "cell_type": "code",
   "execution_count": 19,
   "id": "b93615c1",
   "metadata": {},
   "outputs": [],
   "source": [
    "def generate_range(n):\n",
    "    i = 0\n",
    "    while i < n:\n",
    "        yield i   # every call to yield produces a value of the generator\n",
    "        i += 1"
   ]
  },
  {
   "cell_type": "code",
   "execution_count": 20,
   "id": "eb30db95",
   "metadata": {},
   "outputs": [
    {
     "data": {
      "text/plain": [
       "<generator object generate_range at 0x00000209239C5040>"
      ]
     },
     "execution_count": 20,
     "metadata": {},
     "output_type": "execute_result"
    }
   ],
   "source": [
    "generate_range(5)"
   ]
  },
  {
   "cell_type": "code",
   "execution_count": 2,
   "id": "f1c9aa6f",
   "metadata": {},
   "outputs": [],
   "source": [
    "def natural_numbers():\n",
    "    \"\"\"returns 1, 2, 3, ...\"\"\"\n",
    "    n = 1\n",
    "    while True:\n",
    "        yield n\n",
    "        n += 1"
   ]
  },
  {
   "cell_type": "code",
   "execution_count": 3,
   "id": "11658f59",
   "metadata": {},
   "outputs": [
    {
     "name": "stdout",
     "output_type": "stream",
     "text": [
      "<generator object natural_numbers at 0x000001E232920B30>\n"
     ]
    }
   ],
   "source": [
    "print(natural_numbers())"
   ]
  },
  {
   "cell_type": "code",
   "execution_count": 4,
   "id": "11bbaab1",
   "metadata": {},
   "outputs": [
    {
     "data": {
      "text/plain": [
       "<enumerate at 0x1e23297ad80>"
      ]
     },
     "execution_count": 4,
     "metadata": {},
     "output_type": "execute_result"
    }
   ],
   "source": [
    "enumerate(\"alice\")"
   ]
  },
  {
   "cell_type": "code",
   "execution_count": 5,
   "id": "827870d5",
   "metadata": {},
   "outputs": [
    {
     "name": "stdout",
     "output_type": "stream",
     "text": [
      "5\n"
     ]
    }
   ],
   "source": [
    "print(5)"
   ]
  },
  {
   "cell_type": "code",
   "execution_count": 6,
   "id": "a73d37cf",
   "metadata": {},
   "outputs": [
    {
     "name": "stdout",
     "output_type": "stream",
     "text": [
      "name 0 is Alice\n",
      "name 1 is Bob\n",
      "name 2 is Charlie\n",
      "name 3 is Debbie\n"
     ]
    }
   ],
   "source": [
    "names = [\"Alice\", \"Bob\", \"Charlie\", \"Debbie\"]\n",
    "for i, name in enumerate(names):\n",
    "    print(f\"name {i} is {name}\")"
   ]
  },
  {
   "cell_type": "code",
   "execution_count": 1,
   "id": "02da6d97",
   "metadata": {},
   "outputs": [],
   "source": [
    "import re\n",
    "\n",
    "re_examples = [                        # All of these are True, because\n",
    "    not re.match(\"a\", \"cat\"),              #  'cat' doesn't start with 'a'\n",
    "    re.search(\"a\", \"cat\"),                 #  'cat' has an 'a' in it\n",
    "    not re.search(\"c\", \"dog\"),             #  'dog' doesn't have a 'c' in it.\n",
    "    3 == len(re.split(\"[ab]\", \"carbs\")),   #  Split on a or b to ['c','r','s'].\n",
    "    \"R-D-\" == re.sub(\"[0-9]\", \"-\", \"R2D2\") #  Replace digits with dashes.\n",
    "    ]\n",
    "\n",
    "assert all(re_examples), \"all the regex examples should be True\""
   ]
  },
  {
   "cell_type": "code",
   "execution_count": 1,
   "id": "3134e22c",
   "metadata": {},
   "outputs": [],
   "source": [
    "pairs = [('a', 1), ('b', 2), ('c', 3)]\n",
    "letters, numbers = zip(*pairs)"
   ]
  },
  {
   "cell_type": "code",
   "execution_count": 1,
   "id": "80c73ea9",
   "metadata": {},
   "outputs": [],
   "source": [
    "def doubler(f):\n",
    "    # Here we define a new function that keeps a reference to f\n",
    "    def g(x):\n",
    "        return 2 * f(x)\n",
    "\n",
    "    # And return that new function\n",
    "    return g"
   ]
  },
  {
   "cell_type": "code",
   "execution_count": 5,
   "id": "66c1d98c",
   "metadata": {},
   "outputs": [
    {
     "ename": "AssertionError",
     "evalue": "cc",
     "output_type": "error",
     "traceback": [
      "\u001b[1;31m---------------------------------------------------------------------------\u001b[0m",
      "\u001b[1;31mAssertionError\u001b[0m                            Traceback (most recent call last)",
      "\u001b[1;32m<ipython-input-5-65d226d11359>\u001b[0m in \u001b[0;36m<module>\u001b[1;34m\u001b[0m\n\u001b[0;32m      3\u001b[0m \u001b[1;33m\u001b[0m\u001b[0m\n\u001b[0;32m      4\u001b[0m \u001b[0mg\u001b[0m \u001b[1;33m=\u001b[0m \u001b[0mdoubler\u001b[0m\u001b[1;33m(\u001b[0m\u001b[0mf1\u001b[0m\u001b[1;33m)\u001b[0m\u001b[1;33m\u001b[0m\u001b[1;33m\u001b[0m\u001b[0m\n\u001b[1;32m----> 5\u001b[1;33m \u001b[1;32massert\u001b[0m \u001b[0mg\u001b[0m\u001b[1;33m(\u001b[0m\u001b[1;36m5\u001b[0m\u001b[1;33m)\u001b[0m \u001b[1;33m==\u001b[0m \u001b[1;36m13\u001b[0m\u001b[1;33m,\u001b[0m \u001b[1;34m\"cc\"\u001b[0m\u001b[1;33m\u001b[0m\u001b[1;33m\u001b[0m\u001b[0m\n\u001b[0m",
      "\u001b[1;31mAssertionError\u001b[0m: cc"
     ]
    }
   ],
   "source": [
    "def f1(x):\n",
    "    return x + 1\n",
    "\n",
    "g = doubler(f1)\n",
    "assert g(5) == 13, \"cc\""
   ]
  },
  {
   "cell_type": "code",
   "execution_count": 1,
   "id": "d7df93d2",
   "metadata": {},
   "outputs": [
    {
     "name": "stdout",
     "output_type": "stream",
     "text": [
      "unnamed args: (1, 2)\n",
      "keyword args: {'key': 'word', 'key2': 'word2'}\n"
     ]
    }
   ],
   "source": [
    "def magic(*args, **kwargs):\n",
    "    print(\"unnamed args:\", args)\n",
    "    print(\"keyword args:\", kwargs)\n",
    "\n",
    "magic(1, 2, key=\"word\", key2=\"word2\")"
   ]
  },
  {
   "cell_type": "code",
   "execution_count": 3,
   "id": "912fb2e2",
   "metadata": {},
   "outputs": [
    {
     "name": "stdout",
     "output_type": "stream",
     "text": [
      "6\n"
     ]
    }
   ],
   "source": [
    "def other_way_magic(x, y, z):\n",
    "    return x + y + z\n",
    "\n",
    "x_y_list = [1, 2]\n",
    "z_dict = {\"z\": 3}\n",
    "print(other_way_magic(*x_y_list, **z_dict))"
   ]
  },
  {
   "cell_type": "code",
   "execution_count": 14,
   "id": "287f404a",
   "metadata": {},
   "outputs": [
    {
     "name": "stdout",
     "output_type": "stream",
     "text": [
      "10\n"
     ]
    }
   ],
   "source": [
    "def one_kind_of_magic(x,y,z,k):\n",
    "    return x+y+z+k\n",
    "\n",
    "a_useful_tuple = (1,2,3)\n",
    "what_a_dict = {\"k\":4}\n",
    "print(one_kind_of_magic(*a_useful_tuple, **what_a_dict))"
   ]
  },
  {
   "cell_type": "code",
   "execution_count": 16,
   "id": "ee45a0b3",
   "metadata": {},
   "outputs": [
    {
     "name": "stdout",
     "output_type": "stream",
     "text": [
      "14\n"
     ]
    }
   ],
   "source": [
    "def doubler_correct(f):\n",
    "    \"\"\"works no matter what kind of inputs f expects\"\"\"\n",
    "    def g(*args, **kwargs):\n",
    "        \"\"\"whatever arguments g is supplied, pass them through to f\"\"\"\n",
    "        return 2 * f(*args, **kwargs)\n",
    "    return g\n",
    "def f2(x, y):\n",
    "    return x + y\n",
    "g = doubler_correct(f2)\n",
    "print(g(3,4))"
   ]
  },
  {
   "cell_type": "code",
   "execution_count": 19,
   "id": "e6ce871a",
   "metadata": {},
   "outputs": [
    {
     "data": {
      "text/plain": [
       "'hithere'"
      ]
     },
     "execution_count": 19,
     "metadata": {},
     "output_type": "execute_result"
    }
   ],
   "source": [
    "def add(a: int, b: int) -> int:\n",
    "    return a + b\n",
    "\n",
    "add(10, 5)           # you'd like this to be OK\n",
    "add (\"hi\",\"there\")  # you'd like this to be not OK"
   ]
  },
  {
   "cell_type": "code",
   "execution_count": 20,
   "id": "2013eff5",
   "metadata": {},
   "outputs": [],
   "source": [
    "def dot_product(x, y): ...\n"
   ]
  },
  {
   "cell_type": "code",
   "execution_count": 21,
   "id": "777f9a35",
   "metadata": {},
   "outputs": [],
   "source": [
    "dot_product(3,4)"
   ]
  },
  {
   "cell_type": "code",
   "execution_count": 22,
   "id": "c04e200a",
   "metadata": {},
   "outputs": [
    {
     "name": "stdout",
     "output_type": "stream",
     "text": [
      "None\n"
     ]
    }
   ],
   "source": [
    "print(dot_product(3,4))"
   ]
  },
  {
   "cell_type": "code",
   "execution_count": 30,
   "id": "b52439ec",
   "metadata": {},
   "outputs": [],
   "source": [
    "from typing import Callable\n",
    "\n",
    "# The type hint says that repeater is a function that takes\n",
    "# two arguments, a string and an int, and returns a string.\n",
    "def twice(repeater: Callable[[str, int], str], s: str) -> str:\n",
    "    return repeater(s, 2)\n",
    "\n",
    "def comma_repeater(s: str, n: int) -> str:\n",
    "    n_copies = [s for _ in range(n)]\n",
    "    return ', '.join(n_copies)\n",
    "\n"
   ]
  },
  {
   "cell_type": "code",
   "execution_count": 31,
   "id": "213342e0",
   "metadata": {},
   "outputs": [
    {
     "data": {
      "text/plain": [
       "'33333, 33333'"
      ]
     },
     "execution_count": 31,
     "metadata": {},
     "output_type": "execute_result"
    }
   ],
   "source": [
    "twice(comma_repeater, \"33333\")"
   ]
  },
  {
   "cell_type": "code",
   "execution_count": 33,
   "id": "10716fee",
   "metadata": {},
   "outputs": [
    {
     "data": {
      "image/png": "[encoded data removed]",
      "text/plain": [
       "<Figure size 432x288 with 1 Axes>"
      ]
     },
     "metadata": {
      "needs_background": "light"
     },
     "output_type": "display_data"
    }
   ],
   "source": [
    "from matplotlib import pyplot as plt\n",
    "\n",
    "years = [1950, 1960, 1970, 1980, 1990, 2000, 2010]\n",
    "gdp = [300.2, 543.3, 1075.9, 2862.5, 5979.6, 10289.7, 14958.3]\n",
    "\n",
    "# create a line chart, years on x-axis, gdp on y-axis\n",
    "plt.plot(years, gdp, color='red', marker='o', linestyle='solid')\n",
    "\n",
    "# add a title\n",
    "plt.title(\"Nominal GDP\")\n",
    "\n",
    "# add a label to the y-axis\n",
    "plt.ylabel(\"Billions of $\")\n",
    "plt.show()"
   ]
  },
  {
   "cell_type": "code",
   "execution_count": 34,
   "id": "3dff9624",
   "metadata": {},
   "outputs": [
    {
     "data": {
      "image/png": "[encoded data removed]",
      "text/plain": [
       "<Figure size 432x288 with 1 Axes>"
      ]
     },
     "metadata": {
      "needs_background": "light"
     },
     "output_type": "display_data"
    }
   ],
   "source": [
    "movies = [\"Annie Hall\", \"Ben-Hur\", \"Casablanca\", \"Gandhi\", \"West Side Story\"]\n",
    "num_oscars = [5, 11, 3, 8, 10]\n",
    "\n",
    "# plot bars with left x-coordinates [0, 1, 2, 3, 4], heights [num_oscars]\n",
    "plt.bar(range(len(movies)), num_oscars)\n",
    "\n",
    "plt.title(\"My Favorite Movies\")     # add a title\n",
    "plt.ylabel(\"# of Academy Awards\")   # label the y-axis\n",
    "\n",
    "# label x-axis with movie names at bar centers\n",
    "plt.xticks(range(len(movies)), movies)\n",
    "\n",
    "plt.show()"
   ]
  },
  {
   "cell_type": "code",
   "execution_count": 35,
   "id": "0e2d9217",
   "metadata": {},
   "outputs": [
    {
     "data": {
      "image/png": "[encoded data removed]",
      "text/plain": [
       "<Figure size 432x288 with 1 Axes>"
      ]
     },
     "metadata": {
      "needs_background": "light"
     },
     "output_type": "display_data"
    }
   ],
   "source": [
    "from collections import Counter\n",
    "grades = [83, 95, 91, 87, 70, 0, 85, 82, 100, 67, 73, 77, 0]\n",
    "\n",
    "# Bucket grades by decile, but put 100 in with the 90s\n",
    "histogram = Counter(min(grade // 10 * 10, 90) for grade in grades)\n",
    "\n",
    "plt.bar([x + 5 for x in histogram.keys()],  # Shift bars right by 5\n",
    "        histogram.values(),                 # Give each bar its correct height\n",
    "        10,                                 # Give each bar a width of 10\n",
    "        edgecolor=(0, 0, 0))                # Black edges for each bar\n",
    "\n",
    "plt.axis([-5, 105, 0, 5])                  # x-axis from -5 to 105,\n",
    "                                           # y-axis from 0 to 5\n",
    "\n",
    "plt.xticks([10 * i for i in range(11)])    # x-axis labels at 0, 10, ..., 100\n",
    "plt.xlabel(\"Decile\")\n",
    "plt.ylabel(\"# of Students\")\n",
    "plt.title(\"Distribution of Exam 1 Grades\")\n",
    "plt.show()"
   ]
  },
  {
   "cell_type": "code",
   "execution_count": 36,
   "id": "b6f2859d",
   "metadata": {},
   "outputs": [
    {
     "name": "stdout",
     "output_type": "stream",
     "text": [
      "Counter({80: 4, 90: 3, 70: 3, 0: 2, 60: 1})\n"
     ]
    }
   ],
   "source": [
    "print(histogram)"
   ]
  },
  {
   "cell_type": "code",
   "execution_count": 2,
   "id": "9d4bcaab",
   "metadata": {},
   "outputs": [
    {
     "data": {
      "image/png": "[encoded data removed]",
      "text/plain": [
       "<Figure size 432x288 with 1 Axes>"
      ]
     },
     "metadata": {
      "needs_background": "light"
     },
     "output_type": "display_data"
    }
   ],
   "source": [
    "from matplotlib import pyplot as plt\n",
    "variance     = [1, 2, 4, 8, 16, 32, 64, 128, 256]\n",
    "bias_squared = [256, 128, 64, 32, 16, 8, 4, 2, 1]\n",
    "total_error  = [x + y for x, y in zip(variance, bias_squared)]\n",
    "xs = [i for i, _ in enumerate(variance)]\n",
    "\n",
    "# We can make multiple calls to plt.plot\n",
    "# to show multiple series on the same chart\n",
    "plt.plot(xs, variance,     'g-',  label='variance')    # green solid line\n",
    "plt.plot(xs, bias_squared, 'r-.', label='bias^2')      # red dot-dashed line\n",
    "plt.plot(xs, total_error,  'b:',  label='total error') # blue dotted line\n",
    "\n",
    "# Because we've assigned labels to each series,\n",
    "# we can get a legend for free (loc=9 means \"top center\")\n",
    "plt.legend(loc=9)\n",
    "plt.xlabel(\"model complexity\")\n",
    "plt.xticks([])\n",
    "plt.title(\"The Bias-Variance Tradeoff\")\n",
    "plt.show()"
   ]
  },
  {
   "cell_type": "code",
   "execution_count": 5,
   "id": "43ff5f4a",
   "metadata": {},
   "outputs": [
    {
     "data": {
      "text/plain": [
       "<zip at 0x1dfbf693d80>"
      ]
     },
     "execution_count": 5,
     "metadata": {},
     "output_type": "execute_result"
    }
   ],
   "source": [
    "zip(variance, bias_squared)"
   ]
  },
  {
   "cell_type": "code",
   "execution_count": 6,
   "id": "967e4484",
   "metadata": {},
   "outputs": [
    {
     "data": {
      "text/plain": [
       "<enumerate at 0x1dfbf5e4b80>"
      ]
     },
     "execution_count": 6,
     "metadata": {},
     "output_type": "execute_result"
    }
   ],
   "source": [
    "enumerate(variance)"
   ]
  },
  {
   "cell_type": "code",
   "execution_count": 7,
   "id": "d60e1686",
   "metadata": {},
   "outputs": [],
   "source": [
    "x = ('apple', 'banana', 'cherry')\n",
    "y = enumerate(x)"
   ]
  },
  {
   "cell_type": "code",
   "execution_count": 10,
   "id": "08899760",
   "metadata": {},
   "outputs": [
    {
     "name": "stdout",
     "output_type": "stream",
     "text": [
      "[(0, 'apple'), (1, 'banana'), (2, 'cherry')]\n"
     ]
    }
   ],
   "source": [
    "print(list(y))"
   ]
  },
  {
   "cell_type": "code",
   "execution_count": 4,
   "id": "709388b4",
   "metadata": {},
   "outputs": [
    {
     "data": {
      "image/png": "[encoded data removed]",
      "text/plain": [
       "<Figure size 432x288 with 1 Axes>"
      ]
     },
     "metadata": {
      "needs_background": "light"
     },
     "output_type": "display_data"
    }
   ],
   "source": [
    "from matplotlib import pyplot as plt\n",
    "friends = [ 70,  65,  72,  63,  71,  64,  60,  64,  67]\n",
    "minutes = [175, 170, 205, 120, 220, 130, 105, 145, 190]\n",
    "labels =  ['a', 'b', 'c', 'd', 'e', 'f', 'g', 'h', 'i']\n",
    "\n",
    "plt.scatter(friends, minutes)\n",
    "\n",
    "# label each point\n",
    "for label, friend_count, minute_count in zip(labels, friends, minutes):\n",
    "    plt.annotate(label,\n",
    "        xy=(friend_count, minute_count), # Put the label with its point\n",
    "        xytext=(5, -5),                  # but slightly offset\n",
    "        textcoords='offset points')\n",
    "\n",
    "plt.title(\"Daily Minutes vs. Number of Friends\")\n",
    "plt.xlabel(\"# of friends\")\n",
    "plt.ylabel(\"daily minutes spent on the site\")\n",
    "plt.show()"
   ]
  },
  {
   "cell_type": "code",
   "execution_count": 23,
   "id": "f783ecfe",
   "metadata": {},
   "outputs": [],
   "source": [
    "from typing import List\n",
    "Vector = List[float]\n",
    "def vector_sum(vectors: List[Vector]) -> Vector:\n",
    "    \"\"\"Sums all corresponding elements\"\"\"\n",
    "    # Check that vectors is not empty\n",
    "    assert vectors, \"no vectors provided!\"\n",
    "\n",
    "    # Check the vectors are all the same size\n",
    "    num_elements = len(vectors[0])\n",
    "    assert all(len(v) == num_elements for v in vectors), \"different sizes!\"\n",
    "\n",
    "    # the i-th element of the result is the sum of every vector[i]\n",
    "    return [sum(vector[i] for vector in vectors)\n",
    "            for i in range(num_elements)]\n",
    "\n",
    "assert vector_sum([[1, 2], [3, 4], [5, 6], [7, 8]]) == [16, 20]\n",
    "\n",
    "def dot(v:Vector,w:Vector) -> float:\n",
    "    return sum(v_i*w_i for v_i,w_i in zip (v,w))\n",
    "\n",
    "def sum_of_squares(v: Vector) -> float:\n",
    "    \n",
    "    return dot(v, v)"
   ]
  },
  {
   "cell_type": "code",
   "execution_count": 24,
   "id": "4eeadff4",
   "metadata": {},
   "outputs": [
    {
     "data": {
      "text/plain": [
       "2.8284271247461903"
      ]
     },
     "execution_count": 24,
     "metadata": {},
     "output_type": "execute_result"
    }
   ],
   "source": [
    "\n",
    "import math\n",
    "def distance_between_2vecs(v1: Vector,v2: Vector):\n",
    "    \n",
    "    assert len(v1) == len(v2)\n",
    "    \n",
    "    return (math.sqrt(sum_of_squares([v1_i-v2_i for v1_i,v2_i in zip(v1,v2)])\n",
    "                     )\n",
    "    )\n",
    "\n",
    "distance_between_2vecs([3,4],[5,6])"
   ]
  },
  {
   "cell_type": "code",
   "execution_count": null,
   "id": "7ed3d169",
   "metadata": {},
   "outputs": [],
   "source": []
  }
 ],
 "metadata": {
  "kernelspec": {
   "display_name": "Python 3",
   "language": "python",
   "name": "python3"
  },
  "language_info": {
   "codemirror_mode": {
    "name": "ipython",
    "version": 3
   },
   "file_extension": ".py",
   "mimetype": "text/x-python",
   "name": "python",
   "nbconvert_exporter": "python",
   "pygments_lexer": "ipython3",
   "version": "3.8.8"
  }
 },
 "nbformat": 4,
 "nbformat_minor": 5
}
